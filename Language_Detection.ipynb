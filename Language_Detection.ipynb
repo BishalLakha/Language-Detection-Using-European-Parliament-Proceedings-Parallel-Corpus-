{
 "cells": [
  {
   "cell_type": "markdown",
   "metadata": {},
   "source": [
    "### Project Description"
   ]
  },
  {
   "cell_type": "markdown",
   "metadata": {},
   "source": [
    "Lnaguage detection is an important area of research which has different applications. For example, chatbots with multi language support can detect language used by its user and respond accordingly. We will be using European Parliament Proceedings Parallel Corpus which is a text dataset used for evaluating language detection engines. The dataset is 1.5GB corpus which includes 21 languages spoken in EU. But we will be using only part of the corpus ( 100 files from each language) because of lack of time to train in and computational resources."
   ]
  },
  {
   "cell_type": "code",
   "execution_count": 1,
   "metadata": {
    "collapsed": true
   },
   "outputs": [],
   "source": [
    "# Definations\n",
    "PATH_DATA = './txt'\n",
    "DATA_FILE_LIMIT = 100\n",
    "PATH_RESULT_CSV = './Results/results.csv'"
   ]
  },
  {
   "cell_type": "code",
   "execution_count": 2,
   "metadata": {
    "collapsed": true
   },
   "outputs": [],
   "source": [
    "import glob\n",
    "import os\n",
    "import re\n",
    "\n",
    "def load_data(cls):\n",
    "    \"\"\" Decorator function to pass ass language data path\"\"\"\n",
    "    cls._all_language_data_path = glob.glob(os.path.join(PATH_DATA,\"*\"))\n",
    "    return cls\n",
    "\n",
    "@load_data\n",
    "class Language:\n",
    "    \"\"\"\n",
    "    This class will read text from the dataset and make an object of itself for each language.\n",
    "    Getting each class as an object will help us easily handle the data and explore the features\n",
    "    of data easily.\n",
    "    \"\"\"\n",
    "    _all_language_data_path = None\n",
    "    _all_language = None\n",
    "    \n",
    "    def _get_name(self):\n",
    "        \"Find name of the model used\"\n",
    "        return self.data_path.split('/')[-1]\n",
    "    \n",
    "    def __init__(self,path):\n",
    "        self.data_path = path\n",
    "        self.total_files = None\n",
    "        self.total_used_files = None\n",
    "        self.word_count = 0\n",
    "        \n",
    "        self.name = self._get_name()\n",
    "        self.all_text = self._read_data()\n",
    "        self.unique_word_count = self._find_unique_word_count()\n",
    "        self.unique_char_count = self._find_unique_character_count()\n",
    "        \n",
    "    def _word_tokenizer(self,text):\n",
    "        \"\"\"Tokenize word\"\"\"\n",
    "        return text.split(\" \")\n",
    "    \n",
    "    def _find_unique_word_count(self):\n",
    "        \"\"\"Return total number of unique words\"\"\"\n",
    "        words = self._word_tokenizer(self.all_text)\n",
    "        return len(set(words))     \n",
    "    \n",
    "    def _find_unique_character_count(self):\n",
    "        \"Return total number of unique characters\"\n",
    "        return len(set(self.all_text))\n",
    "    \n",
    "    def _read_file(self,path):\n",
    "        \"\"\"Read txt file\"\"\"\n",
    "        with open(path,encoding='utf8') as lang_data:\n",
    "            text = lang_data.read()\n",
    "            self.word_count += len(self._word_tokenizer(text))\n",
    "            return text\n",
    "    \n",
    "    def _read_data(self):\n",
    "        \"\"\"Read data from data folder\"\"\"\n",
    "        data = None\n",
    "        all_data = []\n",
    "        # Read all txt files of a class\n",
    "        list_of_files = glob.glob(os.path.join(self.data_path,\"*.txt\"))\n",
    "        self.total_files = len(list_of_files)\n",
    "        \n",
    "        try:\n",
    "            # Read text from all txt files\n",
    "            for count,file in enumerate(list_of_files):\n",
    "                # If file limit is None, read all files\n",
    "                if not DATA_FILE_LIMIT:\n",
    "                    data = self._read_file(file)\n",
    "                else:\n",
    "                    # Read only that number of files defined by DATA_FILE_LIMIT\n",
    "                    if count < DATA_FILE_LIMIT:\n",
    "                        data = self._read_file(file)\n",
    "                    else:\n",
    "                        break\n",
    "                all_data.append(data)\n",
    "            self.total_used_files = count\n",
    "        except Exception as error:\n",
    "            print(error)\n",
    "        \n",
    "        # Join all text into one single string\n",
    "        return \"/n\".join(all_data)\n",
    "    \n",
    "    @classmethod\n",
    "    def get_all_language(cls):\n",
    "        \"\"\"Return a list of all languages as OBJECTS\"\"\"\n",
    "        if cls._all_language is None:\n",
    "            cls._all_language = [Language(path) for path in cls._all_language_data_path]\n",
    "        return cls._all_language\n",
    "                    \n",
    "                    \n",
    "                    \n",
    "                \n",
    "        "
   ]
  },
  {
   "cell_type": "markdown",
   "metadata": {
    "collapsed": true
   },
   "source": [
    "We can use Language class to read the data and explore it. We will be exploring different properties of our first language whih is 'lv'. We can make similar exploration for other languages too."
   ]
  },
  {
   "cell_type": "code",
   "execution_count": 3,
   "metadata": {
    "collapsed": true,
    "scrolled": true
   },
   "outputs": [],
   "source": [
    "# Get Language object for all the languages in our corpus\n",
    "# all_language is a list of Language object\n",
    "all_language = Language.get_all_language()"
   ]
  },
  {
   "cell_type": "code",
   "execution_count": 4,
   "metadata": {},
   "outputs": [
    {
     "data": {
      "text/plain": [
       "'lv'"
      ]
     },
     "execution_count": 4,
     "metadata": {},
     "output_type": "execute_result"
    }
   ],
   "source": [
    "# From all_language we get our first Language object \n",
    "first_language = all_language[0]\n",
    "\n",
    "# Get name of the language\n",
    "first_language.name"
   ]
  },
  {
   "cell_type": "code",
   "execution_count": 5,
   "metadata": {},
   "outputs": [
    {
     "data": {
      "text/plain": [
       "75276"
      ]
     },
     "execution_count": 5,
     "metadata": {},
     "output_type": "execute_result"
    }
   ],
   "source": [
    "# Get total number of words\n",
    "first_language.word_count"
   ]
  },
  {
   "cell_type": "code",
   "execution_count": 6,
   "metadata": {},
   "outputs": [
    {
     "data": {
      "text/plain": [
       "18957"
      ]
     },
     "execution_count": 6,
     "metadata": {},
     "output_type": "execute_result"
    }
   ],
   "source": [
    "# Get total number of unique words\n",
    "# It is the length set of all words\n",
    "first_language.unique_word_count"
   ]
  },
  {
   "cell_type": "code",
   "execution_count": 7,
   "metadata": {},
   "outputs": [
    {
     "data": {
      "text/plain": [
       "158"
      ]
     },
     "execution_count": 7,
     "metadata": {},
     "output_type": "execute_result"
    }
   ],
   "source": [
    "# Get total number of unique character\n",
    "# it is the length of set of all characters of the text\n",
    "first_language.unique_char_count"
   ]
  },
  {
   "cell_type": "code",
   "execution_count": 9,
   "metadata": {},
   "outputs": [
    {
     "data": {
      "text/plain": [
       "'<CHAPTER ID=\"016\">\\nDokumentu iesniegšana (sk. protokolu)\\n/n<CHAPTER ID=\"004-04\">\\n4. Iestāžu nolīguma slēgšana par budžeta disciplīnu un pareizu finanšu pārvaldību (balsojums)\\n/n<CHAPTER ID=\"006-04\">\\n4. 2007. gada budžeta izpildes apstiprināšana -  Eiropas Ombuds (\\n/n<CHAPTER ID=\"004-12\">\\n12. Makrofinansiālā palīdzība Serbijai (\\n/n<CHAPTER ID=\"001\">\\nSēdes atklāšana\\n<P>\\n(\" συνεδρίαση αρχίζει στις 9.40 π.μ.)\\n/n<CHAPTER ID=\"008-06\">\\n6.  Viltošanas novēršanas tirdzniecības nolīgums (\\n/n<CHAPTER ID=\"0'"
      ]
     },
     "execution_count": 9,
     "metadata": {},
     "output_type": "execute_result"
    }
   ],
   "source": [
    "# Get all text of the language\n",
    "#Displaying only 500 characters\n",
    "first_language.all_text[:500]"
   ]
  },
  {
   "cell_type": "markdown",
   "metadata": {},
   "source": [
    "### Visualization"
   ]
  },
  {
   "cell_type": "markdown",
   "metadata": {},
   "source": [
    "We can visualize the properties of different languages to get better understanding of our data"
   ]
  },
  {
   "cell_type": "code",
   "execution_count": 10,
   "metadata": {
    "collapsed": true
   },
   "outputs": [],
   "source": [
    "import matplotlib.pyplot as plt\n",
    "import numpy as np \n",
    "%matplotlib inline\n",
    "\n",
    "class Visualization:\n",
    "    \"\"\"\n",
    "    Class to visualize properties of different languages of the courpus\n",
    "    Takes list of Language object \n",
    "    \"\"\"\n",
    "    def __init__(self,languages):\n",
    "        # List of Language object\n",
    "        self.languages = languages\n",
    "    \n",
    "    def _plot(self,x,y,labels,ylabel,xlabel):\n",
    "        \"\"\" Plot bar diagram \"\"\"\n",
    "        plt.figure(figsize=(10,5))\n",
    "        plt.bar(x, y, align='center', alpha=1)\n",
    "        plt.xticks(x, labels)\n",
    "        plt.ylabel(ylabel)\n",
    "        plt.xlabel(xlabel)\n",
    "        \n",
    "        plt.show()\n",
    "        \n",
    "    def visualize_word_count(self):\n",
    "        \"\"\"Visualize word count of different languages\"\"\"\n",
    "        \n",
    "        # Get names of languages\n",
    "        names = [language.name for language in self.languages]\n",
    "        # Get word count of all languages\n",
    "        word_count = [language.word_count for language in self.languages]\n",
    "        x = np.arange(len(names))\n",
    "        \n",
    "        # Bar plot for word count\n",
    "        self._plot(x,word_count,names,ylabel='Word Count',xlabel='Languages')\n",
    "\n",
    "    def visualize_unique_word_count(self):\n",
    "        \"\"\"Visualize unique word count\"\"\"\n",
    "        names = [language.name for language in self.languages]\n",
    "        unique_word_count = [language.unique_word_count for language in self.languages]\n",
    "        x = np.arange(len(names))\n",
    "        \n",
    "        self._plot(x,unique_word_count,names,ylabel='Unique Word Count',xlabel='Languages')\n",
    "    \n",
    "    def visualize_unique_char_count(self):\n",
    "        \"\"\"Visualize unique character count\"\"\"\n",
    "        names = [language.name for language in self.languages]\n",
    "        unique_char_count = [language.unique_char_count for language in self.languages]\n",
    "        x = np.arange(len(names))\n",
    "\n",
    "        self._plot(x,unique_char_count,names,ylabel='Unique Character Count',xlabel='Languages')\n",
    "\n"
   ]
  },
  {
   "cell_type": "markdown",
   "metadata": {},
   "source": [
    "We can now explore data distribution among different classes. For that we will be using methods of Visualization class"
   ]
  },
  {
   "cell_type": "code",
   "execution_count": 11,
   "metadata": {
    "collapsed": true
   },
   "outputs": [],
   "source": [
    "# Instantiate a Visualization object\n",
    "lang_viz = Visualization(languages=all_language)"
   ]
  },
  {
   "cell_type": "code",
   "execution_count": 12,
   "metadata": {},
   "outputs": [
    {
     "data": {
      "image/png": "[encoded data removed]",
      "text/plain": [
       "<matplotlib.figure.Figure at 0x7f311c69e710>"
      ]
     },
     "metadata": {},
     "output_type": "display_data"
    }
   ],
   "source": [
    "# Visualize word count for different lanuages\n",
    "lang_viz.visualize_word_count()"
   ]
  },
  {
   "cell_type": "code",
   "execution_count": 13,
   "metadata": {},
   "outputs": [
    {
     "data": {
      "image/png": "[encoded data removed]",
      "text/plain": [
       "<matplotlib.figure.Figure at 0x7f30f5f88eb8>"
      ]
     },
     "metadata": {},
     "output_type": "display_data"
    }
   ],
   "source": [
    "# Visualization of unique word count\n",
    "lang_viz.visualize_unique_word_count()"
   ]
  },
  {
   "cell_type": "code",
   "execution_count": 14,
   "metadata": {},
   "outputs": [
    {
     "data": {
      "image/png": "[encoded data removed]",
      "text/plain": [
       "<matplotlib.figure.Figure at 0x7f30f5edd588>"
      ]
     },
     "metadata": {},
     "output_type": "display_data"
    }
   ],
   "source": [
    "# Visualization of unique characters count\n",
    "lang_viz.visualize_unique_char_count()"
   ]
  },
  {
   "cell_type": "markdown",
   "metadata": {},
   "source": [
    "From the graphs we can observe that :\n",
    "1. Based on word, classes seems imbalanced which mean some classes have more words than other\n",
    "2. Based on characters, classes are more balanced\n",
    "\n",
    "We can assume from the graph that we will get more unbiased model which is based on characters."
   ]
  },
  {
   "cell_type": "markdown",
   "metadata": {},
   "source": [
    "# Data Preparation"
   ]
  },
  {
   "cell_type": "markdown",
   "metadata": {},
   "source": [
    "We will clean our data ( both training and test). We will then use pandas dataframe to manage the data for training and testing"
   ]
  },
  {
   "cell_type": "code",
   "execution_count": 15,
   "metadata": {
    "collapsed": true
   },
   "outputs": [],
   "source": [
    "import pandas as pd\n",
    "\n",
    "class CleanData:\n",
    "    \"\"\"\n",
    "    Class to clean text by removing unwanted words and characters\n",
    "    \"\"\"\n",
    "    @classmethod\n",
    "    def _clean(cls,data,pos):\n",
    "        \"\"\"\n",
    "            Function to clean string.\n",
    "            Takes pandas dataframe .\n",
    "            Data is a pandas dataframe.\n",
    "            Pos is the column index for the text\n",
    "        \"\"\"\n",
    "        data[pos]= data[pos].str.replace('\\s', ' ')\n",
    "        data[pos]= data[pos].str.replace('ID', ' ')\n",
    "        data[pos]= data[pos].str.replace('NAME', ' ')\n",
    "        data[pos]= data[pos].str.replace('SPEAKER', ' ')\n",
    "        data[pos]= data[pos].str.replace('CHAPTER', ' ')\n",
    "        data[pos]= data[pos].str.replace('LANGUAGE', ' ')\n",
    "        data[pos]= data[pos].str.replace('<P>', ' ')\n",
    "        data[pos]= data[pos].str.replace('/', ' ')\n",
    "        data[pos]= data[pos].str.replace('[=<>\":-;.,\\(\\)]', ' ')\n",
    "        data[pos]= data[pos].str.replace('[0-9]', ' ')\n",
    "        data[pos]= data[pos].str.strip()\n",
    "        data = data[data[pos] != '']\n",
    "        data= data.drop_duplicates()\n",
    "        data=data.dropna()\n",
    "        return(data)\n",
    "    \n",
    "    @classmethod\n",
    "    def clean_training_df(cls,data):\n",
    "        return cls._clean(data,0)\n",
    "    \n",
    "    @classmethod\n",
    "    def clean_test_df(cls,data):\n",
    "        return cls._clean(data,0)\n",
    "    \n",
    "        "
   ]
  },
  {
   "cell_type": "code",
   "execution_count": 16,
   "metadata": {
    "collapsed": true
   },
   "outputs": [],
   "source": [
    "# Get text of all languages\n",
    "all_language_text = [language.all_text for language in all_language]"
   ]
  },
  {
   "cell_type": "code",
   "execution_count": 17,
   "metadata": {
    "collapsed": true
   },
   "outputs": [],
   "source": [
    "# Create dataframe using the text\n",
    "training_data = pd.DataFrame(all_language_text)"
   ]
  },
  {
   "cell_type": "code",
   "execution_count": 18,
   "metadata": {},
   "outputs": [
    {
     "data": {
      "text/html": [
       "<div>\n",
       "<style>\n",
       "    .dataframe thead tr:only-child th {\n",
       "        text-align: right;\n",
       "    }\n",
       "\n",
       "    .dataframe thead th {\n",
       "        text-align: left;\n",
       "    }\n",
       "\n",
       "    .dataframe tbody tr th {\n",
       "        vertical-align: top;\n",
       "    }\n",
       "</style>\n",
       "<table border=\"1\" class=\"dataframe\">\n",
       "  <thead>\n",
       "    <tr style=\"text-align: right;\">\n",
       "      <th></th>\n",
       "      <th>0</th>\n",
       "    </tr>\n",
       "  </thead>\n",
       "  <tbody>\n",
       "    <tr>\n",
       "      <th>0</th>\n",
       "      <td>&lt;CHAPTER ID=\"016\"&gt;\\nDokumentu iesniegšana (sk....</td>\n",
       "    </tr>\n",
       "    <tr>\n",
       "      <th>1</th>\n",
       "      <td>&lt;CHAPTER ID=\"016\"&gt;\\nVorlage von Dokumenten: si...</td>\n",
       "    </tr>\n",
       "    <tr>\n",
       "      <th>2</th>\n",
       "      <td>&lt;CHAPTER ID=\"016\"&gt;\\nPředložení dokumentů: viz ...</td>\n",
       "    </tr>\n",
       "    <tr>\n",
       "      <th>3</th>\n",
       "      <td>&lt;CHAPTER ID=\"016\"&gt;\\nВнасяне на документи: вж. ...</td>\n",
       "    </tr>\n",
       "    <tr>\n",
       "      <th>4</th>\n",
       "      <td>&lt;CHAPTER ID=\"016\"&gt;\\nSkładanie dokumentów: patr...</td>\n",
       "    </tr>\n",
       "  </tbody>\n",
       "</table>\n",
       "</div>"
      ],
      "text/plain": [
       "                                                   0\n",
       "0  <CHAPTER ID=\"016\">\\nDokumentu iesniegšana (sk....\n",
       "1  <CHAPTER ID=\"016\">\\nVorlage von Dokumenten: si...\n",
       "2  <CHAPTER ID=\"016\">\\nPředložení dokumentů: viz ...\n",
       "3  <CHAPTER ID=\"016\">\\nВнасяне на документи: вж. ...\n",
       "4  <CHAPTER ID=\"016\">\\nSkładanie dokumentów: patr..."
      ]
     },
     "execution_count": 18,
     "metadata": {},
     "output_type": "execute_result"
    }
   ],
   "source": [
    "training_data.head()"
   ]
  },
  {
   "cell_type": "markdown",
   "metadata": {},
   "source": [
    "We see that the text contain different unwanted words and characters. Infact, we can observe that CHAPTER ID,digits etc occur in all text. SO we will have to remove all unwanted words and characters first before training our model."
   ]
  },
  {
   "cell_type": "code",
   "execution_count": 19,
   "metadata": {},
   "outputs": [
    {
     "data": {
      "text/html": [
       "<div>\n",
       "<style>\n",
       "    .dataframe thead tr:only-child th {\n",
       "        text-align: right;\n",
       "    }\n",
       "\n",
       "    .dataframe thead th {\n",
       "        text-align: left;\n",
       "    }\n",
       "\n",
       "    .dataframe tbody tr th {\n",
       "        vertical-align: top;\n",
       "    }\n",
       "</style>\n",
       "<table border=\"1\" class=\"dataframe\">\n",
       "  <thead>\n",
       "    <tr style=\"text-align: right;\">\n",
       "      <th></th>\n",
       "      <th>0</th>\n",
       "    </tr>\n",
       "  </thead>\n",
       "  <tbody>\n",
       "    <tr>\n",
       "      <th>0</th>\n",
       "      <td>Dokumentu iesniegšana  sk  protokolu   n      ...</td>\n",
       "    </tr>\n",
       "    <tr>\n",
       "      <th>1</th>\n",
       "      <td>Vorlage von Dokumenten  siehe Protokoll  n    ...</td>\n",
       "    </tr>\n",
       "    <tr>\n",
       "      <th>2</th>\n",
       "      <td>Předložení dokumentů  viz zápis  n         -  ...</td>\n",
       "    </tr>\n",
       "    <tr>\n",
       "      <th>3</th>\n",
       "      <td>Внасяне на документи  вж  протоколи  n        ...</td>\n",
       "    </tr>\n",
       "    <tr>\n",
       "      <th>4</th>\n",
       "      <td>Składanie dokumentów  patrz protokół  n       ...</td>\n",
       "    </tr>\n",
       "  </tbody>\n",
       "</table>\n",
       "</div>"
      ],
      "text/plain": [
       "                                                   0\n",
       "0  Dokumentu iesniegšana  sk  protokolu   n      ...\n",
       "1  Vorlage von Dokumenten  siehe Protokoll  n    ...\n",
       "2  Předložení dokumentů  viz zápis  n         -  ...\n",
       "3  Внасяне на документи  вж  протоколи  n        ...\n",
       "4  Składanie dokumentów  patrz protokół  n       ..."
      ]
     },
     "execution_count": 19,
     "metadata": {},
     "output_type": "execute_result"
    }
   ],
   "source": [
    "# Cleaning training data\n",
    "training_data = CleanData.clean_training_df(data=training_data)\n",
    "training_data.head()"
   ]
  },
  {
   "cell_type": "code",
   "execution_count": 20,
   "metadata": {
    "collapsed": true
   },
   "outputs": [],
   "source": [
    "# Getting name of all classes\n",
    "# Required while training\n",
    "labels = [language.name for language in all_language]"
   ]
  },
  {
   "cell_type": "markdown",
   "metadata": {},
   "source": [
    "### Read test dataset"
   ]
  },
  {
   "cell_type": "code",
   "execution_count": 21,
   "metadata": {},
   "outputs": [
    {
     "data": {
      "text/html": [
       "<div>\n",
       "<style>\n",
       "    .dataframe thead tr:only-child th {\n",
       "        text-align: right;\n",
       "    }\n",
       "\n",
       "    .dataframe thead th {\n",
       "        text-align: left;\n",
       "    }\n",
       "\n",
       "    .dataframe tbody tr th {\n",
       "        vertical-align: top;\n",
       "    }\n",
       "</style>\n",
       "<table border=\"1\" class=\"dataframe\">\n",
       "  <thead>\n",
       "    <tr style=\"text-align: right;\">\n",
       "      <th></th>\n",
       "      <th>0</th>\n",
       "      <th>1</th>\n",
       "    </tr>\n",
       "  </thead>\n",
       "  <tbody>\n",
       "    <tr>\n",
       "      <th>0</th>\n",
       "      <td>bg</td>\n",
       "      <td>Европа 2020 не трябва да стартира нов конкурен...</td>\n",
       "    </tr>\n",
       "    <tr>\n",
       "      <th>1</th>\n",
       "      <td>bg</td>\n",
       "      <td>(CS) Най-голямата несправедливост на сегашната...</td>\n",
       "    </tr>\n",
       "    <tr>\n",
       "      <th>2</th>\n",
       "      <td>bg</td>\n",
       "      <td>(DE) Г-жо председател, г-н член на Комисията, ...</td>\n",
       "    </tr>\n",
       "    <tr>\n",
       "      <th>3</th>\n",
       "      <td>bg</td>\n",
       "      <td>(DE) Г-н председател, бих искал да започна с к...</td>\n",
       "    </tr>\n",
       "    <tr>\n",
       "      <th>4</th>\n",
       "      <td>bg</td>\n",
       "      <td>(DE) Г-н председател, въпросът за правата на ч...</td>\n",
       "    </tr>\n",
       "  </tbody>\n",
       "</table>\n",
       "</div>"
      ],
      "text/plain": [
       "    0                                                  1\n",
       "0  bg  Европа 2020 не трябва да стартира нов конкурен...\n",
       "1  bg  (CS) Най-голямата несправедливост на сегашната...\n",
       "2  bg  (DE) Г-жо председател, г-н член на Комисията, ...\n",
       "3  bg  (DE) Г-н председател, бих искал да започна с к...\n",
       "4  bg  (DE) Г-н председател, въпросът за правата на ч..."
      ]
     },
     "execution_count": 21,
     "metadata": {},
     "output_type": "execute_result"
    }
   ],
   "source": [
    "datatest = pd.read_csv('./europarl.test', sep='\\t',header=None)\n",
    "datatest.head()"
   ]
  },
  {
   "cell_type": "code",
   "execution_count": 22,
   "metadata": {
    "collapsed": true
   },
   "outputs": [],
   "source": [
    "# Clean test dataset\n",
    "datatest[1]= datatest[1].str.replace('\\(.*?\\)','')\n",
    "testData= CleanData.clean_test_df(data=datatest)"
   ]
  },
  {
   "cell_type": "code",
   "execution_count": 23,
   "metadata": {},
   "outputs": [
    {
     "data": {
      "text/html": [
       "<div>\n",
       "<style>\n",
       "    .dataframe thead tr:only-child th {\n",
       "        text-align: right;\n",
       "    }\n",
       "\n",
       "    .dataframe thead th {\n",
       "        text-align: left;\n",
       "    }\n",
       "\n",
       "    .dataframe tbody tr th {\n",
       "        vertical-align: top;\n",
       "    }\n",
       "</style>\n",
       "<table border=\"1\" class=\"dataframe\">\n",
       "  <thead>\n",
       "    <tr style=\"text-align: right;\">\n",
       "      <th></th>\n",
       "      <th>0</th>\n",
       "      <th>1</th>\n",
       "    </tr>\n",
       "  </thead>\n",
       "  <tbody>\n",
       "    <tr>\n",
       "      <th>0</th>\n",
       "      <td>bg</td>\n",
       "      <td>Европа 2020 не трябва да стартира нов конкурен...</td>\n",
       "    </tr>\n",
       "    <tr>\n",
       "      <th>1</th>\n",
       "      <td>bg</td>\n",
       "      <td>Най-голямата несправедливост на сегашната общ...</td>\n",
       "    </tr>\n",
       "    <tr>\n",
       "      <th>2</th>\n",
       "      <td>bg</td>\n",
       "      <td>Г-жо председател, г-н член на Комисията, по п...</td>\n",
       "    </tr>\n",
       "    <tr>\n",
       "      <th>3</th>\n",
       "      <td>bg</td>\n",
       "      <td>Г-н председател, бих искал да започна с комен...</td>\n",
       "    </tr>\n",
       "    <tr>\n",
       "      <th>4</th>\n",
       "      <td>bg</td>\n",
       "      <td>Г-н председател, въпросът за правата на човек...</td>\n",
       "    </tr>\n",
       "  </tbody>\n",
       "</table>\n",
       "</div>"
      ],
      "text/plain": [
       "    0                                                  1\n",
       "0  bg  Европа 2020 не трябва да стартира нов конкурен...\n",
       "1  bg   Най-голямата несправедливост на сегашната общ...\n",
       "2  bg   Г-жо председател, г-н член на Комисията, по п...\n",
       "3  bg   Г-н председател, бих искал да започна с комен...\n",
       "4  bg   Г-н председател, въпросът за правата на човек..."
      ]
     },
     "execution_count": 23,
     "metadata": {},
     "output_type": "execute_result"
    }
   ],
   "source": [
    "testData.head()"
   ]
  },
  {
   "cell_type": "markdown",
   "metadata": {},
   "source": [
    "# Model Building"
   ]
  },
  {
   "cell_type": "markdown",
   "metadata": {},
   "source": [
    "We will be using bag of words approach for developing our classifier"
   ]
  },
  {
   "cell_type": "code",
   "execution_count": 24,
   "metadata": {
    "collapsed": true
   },
   "outputs": [],
   "source": [
    "# Libraries for building model\n",
    "from sklearn.pipeline import Pipeline\n",
    "from sklearn.feature_extraction.text import CountVectorizer\n",
    "from sklearn.feature_extraction.text import TfidfTransformer\n",
    "\n",
    "# Libraries for testing\n",
    "from sklearn.metrics import classification_report\n",
    "from sklearn.metrics import f1_score\n",
    "from sklearn.metrics import accuracy_score \n",
    "from sklearn.metrics import precision_recall_fscore_support\n",
    "\n",
    "\n",
    "import pandas as pd\n",
    "import os\n",
    "import time\n",
    "\n",
    "\n",
    "class BagsOfWords:\n",
    "    def __init__(self,model,train_df,test_df,labels):\n",
    "        self.model = model\n",
    "        self.train_df = train_df\n",
    "        self.test_df = test_df\n",
    "        self.labels = labels\n",
    "        self.model_name = self._get_model_name()\n",
    "        \n",
    "        self.classifier_pipeline = None\n",
    "        self._prediction = None\n",
    "        self._accuracy = None\n",
    "        self._precision = None\n",
    "        self._recall = None\n",
    "        self._f1_score = None\n",
    "        self._total_file_used = DATA_FILE_LIMIT\n",
    "        self._ngram = None\n",
    "        self._use_idf = None\n",
    "        self._train_time = None\n",
    "        self._test_time = None\n",
    "        self._analyzer = None\n",
    "        self._report = None\n",
    "        \n",
    "    \n",
    "    def _get_model_name(self):\n",
    "        \"\"\"Get name of model being used\"\"\"\n",
    "        model_name = str(self.model).split('(')[0]\n",
    "        return model_name\n",
    "        \n",
    "    def print_results(self,DETAIL=False):\n",
    "        \"\"\" Print results in formatted way\"\"\"\n",
    "        \n",
    "        print(\"Model name: \", self.model_name)\n",
    "        print(\"Accuracy: \", self._accuracy)\n",
    "        print(\"Precision: \", self._precision)\n",
    "        print(\"Recall: \", self._recall)\n",
    "        print(\"F1 Score: \", self._f1_score)\n",
    "        print(\"Ngram: \", self._ngram)\n",
    "        print(\"Total Features: \", self._total_feature)\n",
    "        print(\"Analyzer: \", self._analyzer)\n",
    "        print(\"Use idf: \", self._use_idf)\n",
    "        \n",
    "        # Print detail report which include precision , recall, f1 score and support for all classes\n",
    "        if DETAIL:\n",
    "            print(\"Detail report\")\n",
    "            print(\"#\"*100)\n",
    "            self._report = classification_report(self.test_df[0], self._prediction)\n",
    "            print(self._report)\n",
    "            \n",
    "    \n",
    "    def save_results(self):\n",
    "        \"\"\"\n",
    "            Save results in a csv file.\n",
    "            Append all the results in same file\n",
    "        \"\"\"\n",
    "        # Columns of the csv file in which result are stored\n",
    "        columns = ['model_name','model_details', 'total_file_used', 'ngram','use_idf',\n",
    "                'accuracy','precision','recall','f1_score','analyzer','total_features','training_time','test_time']\n",
    "        \n",
    "        # Create a csv called result.csv if it doesn't exist already\n",
    "        if not os.path.exists(PATH_RESULT_CSV):\n",
    "            df = pd.DataFrame(columns=columns,)\n",
    "            df.to_csv(PATH_RESULT_CSV,index=False)\n",
    "        \n",
    "        # Different results obtained after training a model\n",
    "        result = [self.model_name, str(self.model), self._total_file_used,self._ngram,self._use_idf, \n",
    "                   self._accuracy, self._precision, self._recall,self._f1_score,\n",
    "                  self._analyzer,self._total_feature, self._train_time, self._test_time]\n",
    "        \n",
    "        # Convert the results into pandas dataframe\n",
    "        result_df = pd.DataFrame([result], columns=columns)\n",
    "        \n",
    "        # Append result in the csv file\n",
    "        with open(PATH_RESULT_CSV, 'a') as f:\n",
    "            result_df.to_csv(f, mode='a', header=False, index=False)\n",
    "\n",
    "        \n",
    "        print(\"Result saved successfully\")\n",
    "    \n",
    "    def get_count_vectorizer(self):\n",
    "        \"\"\" Return countvectorizer used in the pipeline\"\"\"\n",
    "        return self.classifier_pipeline.get_params()['vect']\n",
    "     \n",
    "    \n",
    "    def train_model(self,ngram,use_idf,analyzer):\n",
    "        \"\"\" \n",
    "            Train model\n",
    "            ngram: int\n",
    "            use_idf: bool\n",
    "            analyzer: string\n",
    "        \n",
    "        \"\"\"\n",
    "        current_time = time.time()\n",
    "        self._ngram = ngram\n",
    "        self._use_idf = use_idf\n",
    "        self._analyzer = analyzer\n",
    "        \n",
    "        # Set a pipeline\n",
    "        # 1. The first step of the pipeline is to find count vectorizer\n",
    "        # Countvectorizer converts a collection of text documents to a matrix of token counts\n",
    "        # This implementation produces a sparse representation of the counts\n",
    "        # 2. We then use TfidfTransformr\n",
    "        # TfidfTransformer transforms a count matrix to a normalized tf or tf-idf representation\n",
    "        # Tf means term-frequency while tf-idf means term-frequency times inverse document-frequency.\n",
    "        # 3. Finally, the tf of tf-idf are used by classification algorithm like logistic regression \n",
    "\n",
    "\n",
    "        self.classifier_pipeline = Pipeline([('vect', CountVectorizer(ngram_range=(1,ngram), \n",
    "                analyzer=self._analyzer)), ('tfidf', TfidfTransformer(use_idf=use_idf)), \n",
    "                ('model', self.model)])\n",
    "        self._classifier = self.classifier_pipeline.fit(self.train_df[0], self.labels)\n",
    "        \n",
    "        self._train_time = time.time() - current_time\n",
    "        \n",
    "        # Finding total features used\n",
    "        # It is the count of ngrams\n",
    "        count_vect = self.get_count_vectorizer()\n",
    "        self._total_feature = len(count_vect.get_feature_names())\n",
    "        \n",
    "        \n",
    "        print(\"Training completed\")\n",
    "        print(\"Training time for {} : {} secs\".format(self.model_name, self._train_time))\n",
    "    \n",
    "    def test_model(self):\n",
    "        \"\"\"\n",
    "            Test model\n",
    "            Find accuracy, precision, recall and f1_score\n",
    "        \"\"\"\n",
    "        current_time = time.time()\n",
    "        \n",
    "        # Make predition\n",
    "        self._prediction = self._classifier.predict(self.test_df[1])\n",
    "        \n",
    "        # Find accuracy , precision, recall and f1_score from the predicted data\n",
    "        # Comparing labels from test data with predicted labels\n",
    "        self._accuracy = accuracy_score(self.test_df[0], self._prediction)\n",
    "        result = precision_recall_fscore_support(self.test_df[0], self._prediction,average='weighted')\n",
    "        self._precision =result[0]\n",
    "        self._recall = result[1]\n",
    "        self._f1_score = result[2]\n",
    "    \n",
    "        self._test_time = time.time() - current_time\n",
    "        \n",
    "        print('Test completed successfully')\n",
    "        print(\"Testing time for {} : {} secs\".format(self.model_name, self._test_time))\n",
    "    \n",
    "    \n",
    "        "
   ]
  },
  {
   "cell_type": "markdown",
   "metadata": {
    "collapsed": true
   },
   "source": [
    "### Logistic Regression"
   ]
  },
  {
   "cell_type": "markdown",
   "metadata": {},
   "source": [
    "We will first use logistic regression as our classifier. We will use methods from BagsOfWords class.\n",
    "We will use train_model method to train our model\n",
    "We will use test_model to test our model\n",
    "We will use save_results to save our results"
   ]
  },
  {
   "cell_type": "code",
   "execution_count": 25,
   "metadata": {
    "collapsed": true
   },
   "outputs": [],
   "source": [
    "from sklearn.linear_model import LogisticRegression\n"
   ]
  },
  {
   "cell_type": "code",
   "execution_count": 26,
   "metadata": {
    "collapsed": true
   },
   "outputs": [],
   "source": [
    "# Create BagOfWords object for logistic regression\n",
    "model = LogisticRegression()\n",
    "language_classifier = BagsOfWords(model=model,train_df=training_data,test_df=testData,labels=labels)"
   ]
  },
  {
   "cell_type": "code",
   "execution_count": 27,
   "metadata": {},
   "outputs": [
    {
     "name": "stdout",
     "output_type": "stream",
     "text": [
      "Training completed\n",
      "Training time for LogisticRegression : 4.517180919647217 secs\n"
     ]
    }
   ],
   "source": [
    "# We will train our pipline using 1 gram of word \n",
    "# We wont use idf\n",
    "language_classifier.train_model(1,use_idf=False, analyzer='word')"
   ]
  },
  {
   "cell_type": "code",
   "execution_count": 28,
   "metadata": {},
   "outputs": [
    {
     "data": {
      "text/plain": [
       "['aa',\n",
       " 'aaa',\n",
       " 'aadressil',\n",
       " 'aafrika',\n",
       " 'aafrikaga',\n",
       " 'aafrikale',\n",
       " 'aafrikas',\n",
       " 'aafrikast',\n",
       " 'aafrikat',\n",
       " 'aalmoezen']"
      ]
     },
     "execution_count": 28,
     "metadata": {},
     "output_type": "execute_result"
    }
   ],
   "source": [
    "# We can see the 1 grams used by our model\n",
    "vect = language_classifier.get_count_vectorizer()\n",
    "\n",
    "# Displaying only 10 features\n",
    "vect.get_feature_names()[:10]"
   ]
  },
  {
   "cell_type": "code",
   "execution_count": 93,
   "metadata": {},
   "outputs": [
    {
     "name": "stdout",
     "output_type": "stream",
     "text": [
      "Test completed successfully\n",
      "Testing time for LogisticRegression : 0.46112775802612305 secs\n"
     ]
    }
   ],
   "source": [
    "# Test the model\n",
    "language_classifier.test_model()"
   ]
  },
  {
   "cell_type": "code",
   "execution_count": 94,
   "metadata": {},
   "outputs": [
    {
     "name": "stdout",
     "output_type": "stream",
     "text": [
      "Model name:  LogisticRegression\n",
      "Accuracy:  0.919915295024\n",
      "Precision:  0.929885620683\n",
      "Recall:  0.919915295024\n",
      "F1 Score:  0.921769343316\n",
      "Ngram:  1\n",
      "Total Features:  313473\n",
      "Analyzer:  word\n",
      "Use idf:  False\n",
      "Detail report\n",
      "####################################################################################################\n",
      "             precision    recall  f1-score   support\n",
      "\n",
      "         bg       0.63      1.00      0.77       998\n",
      "         cs       0.90      0.80      0.85       994\n",
      "         da       0.99      0.95      0.97       995\n",
      "         de       0.97      0.98      0.98       995\n",
      "         el       0.99      1.00      1.00       989\n",
      "         en       0.93      0.97      0.95      1000\n",
      "         es       0.97      0.88      0.92       997\n",
      "         et       0.97      0.84      0.90       995\n",
      "         fi       0.88      0.88      0.88       996\n",
      "         fr       1.00      0.90      0.94      1000\n",
      "         hu       0.98      0.97      0.97       999\n",
      "         it       0.97      0.95      0.96       997\n",
      "         lt       0.89      0.94      0.92       996\n",
      "         lv       0.88      0.84      0.86       979\n",
      "         nl       0.92      0.95      0.94      1000\n",
      "         pl       0.90      0.92      0.91       998\n",
      "         pt       0.95      0.92      0.93       997\n",
      "         ro       1.00      0.94      0.97       927\n",
      "         sk       0.97      0.82      0.89       929\n",
      "         sl       0.87      0.89      0.88       999\n",
      "         sv       0.98      0.98      0.98       998\n",
      "\n",
      "avg / total       0.93      0.92      0.92     20778\n",
      "\n"
     ]
    }
   ],
   "source": [
    "# Print results of the test\n",
    "language_classifier.print_results(DETAIL=True)"
   ]
  },
  {
   "cell_type": "markdown",
   "metadata": {},
   "source": [
    "We now build a classifier based 1 gram of characters"
   ]
  },
  {
   "cell_type": "code",
   "execution_count": 27,
   "metadata": {},
   "outputs": [
    {
     "name": "stdout",
     "output_type": "stream",
     "text": [
      "Training completed\n",
      "Training time for LogisticRegression : 3.910316228866577 secs\n"
     ]
    }
   ],
   "source": [
    "# Train 1 gram of characters logistic regression classifier\n",
    "language_classifier.train_model(1,use_idf=False, analyzer='char')"
   ]
  },
  {
   "cell_type": "code",
   "execution_count": 28,
   "metadata": {},
   "outputs": [
    {
     "data": {
      "text/plain": [
       "[' ',\n",
       " '!',\n",
       " '#',\n",
       " '%',\n",
       " '&',\n",
       " \"'\",\n",
       " '*',\n",
       " '+',\n",
       " '-',\n",
       " '?',\n",
       " '[',\n",
       " '\\\\',\n",
       " ']',\n",
       " 'a',\n",
       " 'b',\n",
       " 'c',\n",
       " 'd',\n",
       " 'e',\n",
       " 'f',\n",
       " 'g',\n",
       " 'h',\n",
       " 'i',\n",
       " 'j',\n",
       " 'k',\n",
       " 'l',\n",
       " 'm',\n",
       " 'n',\n",
       " 'o',\n",
       " 'p',\n",
       " 'q',\n",
       " 'r',\n",
       " 's',\n",
       " 't',\n",
       " 'u',\n",
       " 'v',\n",
       " 'w',\n",
       " 'x',\n",
       " 'y',\n",
       " 'z',\n",
       " '¡',\n",
       " '£',\n",
       " '§',\n",
       " 'ª',\n",
       " '«',\n",
       " '°',\n",
       " '´',\n",
       " '·',\n",
       " 'º',\n",
       " '»',\n",
       " '½',\n",
       " '¿',\n",
       " 'ß',\n",
       " 'à',\n",
       " 'á',\n",
       " 'â',\n",
       " 'ã',\n",
       " 'ä',\n",
       " 'å',\n",
       " 'æ',\n",
       " 'ç',\n",
       " 'è',\n",
       " 'é',\n",
       " 'ê',\n",
       " 'ë',\n",
       " 'ì',\n",
       " 'í',\n",
       " 'î',\n",
       " 'ï',\n",
       " 'ñ',\n",
       " 'ò',\n",
       " 'ó',\n",
       " 'ô',\n",
       " 'õ',\n",
       " 'ö',\n",
       " 'ø',\n",
       " 'ù',\n",
       " 'ú',\n",
       " 'û',\n",
       " 'ü',\n",
       " 'ý',\n",
       " 'ā',\n",
       " 'ă',\n",
       " 'ą',\n",
       " 'ć',\n",
       " 'č',\n",
       " 'ď',\n",
       " 'ē',\n",
       " 'ė',\n",
       " 'ę',\n",
       " 'ě',\n",
       " 'ğ',\n",
       " 'ģ',\n",
       " 'ī',\n",
       " 'į',\n",
       " 'ı',\n",
       " 'ķ',\n",
       " 'ĺ',\n",
       " 'ļ',\n",
       " 'ľ',\n",
       " 'ł',\n",
       " 'ń',\n",
       " 'ņ',\n",
       " 'ň',\n",
       " 'ő',\n",
       " 'œ',\n",
       " 'ŕ',\n",
       " 'ř',\n",
       " 'ś',\n",
       " 'ş',\n",
       " 'š',\n",
       " 'ţ',\n",
       " 'ť',\n",
       " 'ū',\n",
       " 'ů',\n",
       " 'ű',\n",
       " 'ų',\n",
       " 'ź',\n",
       " 'ż',\n",
       " 'ž',\n",
       " 'ș',\n",
       " 'ț',\n",
       " 'ΐ',\n",
       " 'ά',\n",
       " 'έ',\n",
       " 'ή',\n",
       " 'ί',\n",
       " 'ΰ',\n",
       " 'α',\n",
       " 'β',\n",
       " 'γ',\n",
       " 'δ',\n",
       " 'ε',\n",
       " 'ζ',\n",
       " 'η',\n",
       " 'θ',\n",
       " 'ι',\n",
       " 'κ',\n",
       " 'λ',\n",
       " 'μ',\n",
       " 'ν',\n",
       " 'ξ',\n",
       " 'ο',\n",
       " 'π',\n",
       " 'ρ',\n",
       " 'ς',\n",
       " 'σ',\n",
       " 'τ',\n",
       " 'υ',\n",
       " 'φ',\n",
       " 'χ',\n",
       " 'ψ',\n",
       " 'ω',\n",
       " 'ϊ',\n",
       " 'ϋ',\n",
       " 'ό',\n",
       " 'ύ',\n",
       " 'ώ',\n",
       " 'а',\n",
       " 'б',\n",
       " 'в',\n",
       " 'г',\n",
       " 'д',\n",
       " 'е',\n",
       " 'ж',\n",
       " 'з',\n",
       " 'и',\n",
       " 'й',\n",
       " 'к',\n",
       " 'л',\n",
       " 'м',\n",
       " 'н',\n",
       " 'о',\n",
       " 'п',\n",
       " 'р',\n",
       " 'с',\n",
       " 'т',\n",
       " 'у',\n",
       " 'ф',\n",
       " 'х',\n",
       " 'ц',\n",
       " 'ч',\n",
       " 'ш',\n",
       " 'щ',\n",
       " 'ъ',\n",
       " 'ь',\n",
       " 'ю',\n",
       " 'я',\n",
       " 'і',\n",
       " '\\u200b',\n",
       " '–',\n",
       " '—',\n",
       " '‘',\n",
       " '’',\n",
       " '“',\n",
       " '”',\n",
       " '„',\n",
       " '…',\n",
       " '€',\n",
       " '№',\n",
       " '∙']"
      ]
     },
     "execution_count": 28,
     "metadata": {},
     "output_type": "execute_result"
    }
   ],
   "source": [
    "# We can see the 1 grams of characters used by our model\n",
    "vect = language_classifier.get_count_vectorizer()\n",
    "vect.get_feature_names()"
   ]
  },
  {
   "cell_type": "code",
   "execution_count": 29,
   "metadata": {},
   "outputs": [
    {
     "name": "stdout",
     "output_type": "stream",
     "text": [
      "Test completed successfully\n",
      "Testing time for LogisticRegression : 0.6898703575134277 secs\n",
      "Model name:  LogisticRegression\n",
      "Accuracy:  0.822215805179\n",
      "Precision:  0.845715519846\n",
      "Recall:  0.822215805179\n",
      "F1 Score:  0.818396272119\n",
      "Ngram:  1\n",
      "Total Features:  200\n",
      "Analyzer:  char\n",
      "Use idf:  False\n"
     ]
    }
   ],
   "source": [
    "# Test 1 gram of character model\n",
    "language_classifier.test_model()\n",
    "language_classifier.print_results()"
   ]
  },
  {
   "cell_type": "markdown",
   "metadata": {},
   "source": [
    "From above two experiments , we found that two models have different performance on the test set. We will now explore further. We will observe how logistic regression perform for ngram 1 to 5. We will also observe how usinf idf affects performance. We will also observe performance difference of word and character based model"
   ]
  },
  {
   "cell_type": "code",
   "execution_count": 108,
   "metadata": {
    "collapsed": true
   },
   "outputs": [],
   "source": [
    "# Ngram from 1 to 5\n",
    "ngram = range(1,6)"
   ]
  },
  {
   "cell_type": "code",
   "execution_count": 35,
   "metadata": {},
   "outputs": [
    {
     "name": "stdout",
     "output_type": "stream",
     "text": [
      "Training completed\n",
      "Training time for LogisticRegression : 4.531918287277222 secs\n",
      "Test completed successfully\n",
      "Testing time for LogisticRegression : 0.4594919681549072 secs\n",
      "Model name:  LogisticRegression\n",
      "Accuracy:  0.919915295024\n",
      "Precision:  0.929885620683\n",
      "Recall:  0.919915295024\n",
      "F1 Score:  0.921769343316\n",
      "Ngram:  1\n",
      "Total Features:  313473\n",
      "Analyzer:  word\n",
      "Use idf:  False\n",
      "Result saved successfully\n",
      "####################################################################################################\n",
      "Training completed\n",
      "Training time for LogisticRegression : 24.1071195602417 secs\n",
      "Test completed successfully\n",
      "Testing time for LogisticRegression : 0.8800814151763916 secs\n",
      "Model name:  LogisticRegression\n",
      "Accuracy:  0.918230821061\n",
      "Precision:  0.930088259362\n",
      "Recall:  0.918230821061\n",
      "F1 Score:  0.920592657286\n",
      "Ngram:  2\n",
      "Total Features:  2294420\n",
      "Analyzer:  word\n",
      "Use idf:  False\n",
      "Result saved successfully\n",
      "####################################################################################################\n",
      "Training completed\n",
      "Training time for LogisticRegression : 59.28265595436096 secs\n",
      "Test completed successfully\n",
      "Testing time for LogisticRegression : 1.234381914138794 secs\n",
      "Model name:  LogisticRegression\n",
      "Accuracy:  0.917701414958\n",
      "Precision:  0.929739801662\n",
      "Recall:  0.917701414958\n",
      "F1 Score:  0.920086623788\n",
      "Ngram:  3\n",
      "Total Features:  5586569\n",
      "Analyzer:  word\n",
      "Use idf:  False\n",
      "Result saved successfully\n",
      "####################################################################################################\n",
      "Training completed\n",
      "Training time for LogisticRegression : 110.03650331497192 secs\n",
      "Test completed successfully\n",
      "Testing time for LogisticRegression : 1.6201341152191162 secs\n",
      "Model name:  LogisticRegression\n",
      "Accuracy:  0.917557031476\n",
      "Precision:  0.929657386669\n",
      "Recall:  0.917557031476\n",
      "F1 Score:  0.919957150945\n",
      "Ngram:  4\n",
      "Total Features:  9384309\n",
      "Analyzer:  word\n",
      "Use idf:  False\n",
      "Result saved successfully\n",
      "####################################################################################################\n",
      "Training completed\n",
      "Training time for LogisticRegression : 162.90384721755981 secs\n",
      "Test completed successfully\n",
      "Testing time for LogisticRegression : 1.788914680480957 secs\n",
      "Model name:  LogisticRegression\n",
      "Accuracy:  0.917605159303\n",
      "Precision:  0.929724098512\n",
      "Recall:  0.917605159303\n",
      "F1 Score:  0.920013464055\n",
      "Ngram:  5\n",
      "Total Features:  13343183\n",
      "Analyzer:  word\n",
      "Use idf:  False\n",
      "Result saved successfully\n",
      "####################################################################################################\n"
     ]
    }
   ],
   "source": [
    "# Train word based classifier without using idf\n",
    "# Save the results for further analysis\n",
    "analyzer='word'\n",
    "use_idf = False\n",
    "\n",
    "for n in ngram:\n",
    "    language_classifier.train_model(n,use_idf=use_idf, analyzer=analyzer)\n",
    "    language_classifier.test_model()\n",
    "    language_classifier.print_results(DETAIL=False)\n",
    "    language_classifier.save_results()\n",
    "    print('#'*100)"
   ]
  },
  {
   "cell_type": "markdown",
   "metadata": {},
   "source": [
    "We can observe that varying ngram for word doesn't have significant effect"
   ]
  },
  {
   "cell_type": "code",
   "execution_count": 36,
   "metadata": {},
   "outputs": [
    {
     "name": "stdout",
     "output_type": "stream",
     "text": [
      "Training completed\n",
      "Training time for LogisticRegression : 5.969593048095703 secs\n",
      "Test completed successfully\n",
      "Testing time for LogisticRegression : 0.5567233562469482 secs\n",
      "Model name:  LogisticRegression\n",
      "Accuracy:  0.962219655405\n",
      "Precision:  0.96527880545\n",
      "Recall:  0.962219655405\n",
      "F1 Score:  0.962701530462\n",
      "Ngram:  1\n",
      "Total Features:  313473\n",
      "Analyzer:  word\n",
      "Use idf:  True\n",
      "Result saved successfully\n",
      "####################################################################################################\n",
      "Training completed\n",
      "Training time for LogisticRegression : 24.86300301551819 secs\n",
      "Test completed successfully\n",
      "Testing time for LogisticRegression : 0.9223270416259766 secs\n",
      "Model name:  LogisticRegression\n",
      "Accuracy:  0.963134084127\n",
      "Precision:  0.966384937698\n",
      "Recall:  0.963134084127\n",
      "F1 Score:  0.963687232868\n",
      "Ngram:  2\n",
      "Total Features:  2294420\n",
      "Analyzer:  word\n",
      "Use idf:  True\n",
      "Result saved successfully\n",
      "####################################################################################################\n",
      "Training completed\n",
      "Training time for LogisticRegression : 61.82809567451477 secs\n",
      "Test completed successfully\n",
      "Testing time for LogisticRegression : 1.3602371215820312 secs\n",
      "Model name:  LogisticRegression\n",
      "Accuracy:  0.962797189335\n",
      "Precision:  0.966154940179\n",
      "Recall:  0.962797189335\n",
      "F1 Score:  0.963372205695\n",
      "Ngram:  3\n",
      "Total Features:  5586569\n",
      "Analyzer:  word\n",
      "Use idf:  True\n",
      "Result saved successfully\n",
      "####################################################################################################\n",
      "Training completed\n",
      "Training time for LogisticRegression : 109.16791415214539 secs\n",
      "Test completed successfully\n",
      "Testing time for LogisticRegression : 1.7842330932617188 secs\n",
      "Model name:  LogisticRegression\n",
      "Accuracy:  0.962797189335\n",
      "Precision:  0.966175699597\n",
      "Recall:  0.962797189335\n",
      "F1 Score:  0.963374678067\n",
      "Ngram:  4\n",
      "Total Features:  9384309\n",
      "Analyzer:  word\n",
      "Use idf:  True\n",
      "Result saved successfully\n",
      "####################################################################################################\n",
      "Training completed\n",
      "Training time for LogisticRegression : 165.1300027370453 secs\n",
      "Test completed successfully\n",
      "Testing time for LogisticRegression : 2.0855515003204346 secs\n",
      "Model name:  LogisticRegression\n",
      "Accuracy:  0.962845317162\n",
      "Precision:  0.966192232146\n",
      "Recall:  0.962845317162\n",
      "F1 Score:  0.963415716126\n",
      "Ngram:  5\n",
      "Total Features:  13343183\n",
      "Analyzer:  word\n",
      "Use idf:  True\n",
      "Result saved successfully\n",
      "####################################################################################################\n"
     ]
    }
   ],
   "source": [
    "# Train word based classifier using idf\n",
    "# Save the results for further analysis\n",
    "analyzer='word'\n",
    "use_idf = True\n",
    "\n",
    "for n in ngram:\n",
    "    language_classifier.train_model(n,use_idf=use_idf, analyzer=analyzer)\n",
    "    language_classifier.test_model()\n",
    "    language_classifier.print_results(DETAIL=False)\n",
    "    language_classifier.save_results()\n",
    "    print('#'*100)"
   ]
  },
  {
   "cell_type": "markdown",
   "metadata": {},
   "source": [
    "Using idf significantly improves the performance. But the performance across all ngrams didnot vary"
   ]
  },
  {
   "cell_type": "code",
   "execution_count": 37,
   "metadata": {},
   "outputs": [
    {
     "name": "stdout",
     "output_type": "stream",
     "text": [
      "Training completed\n",
      "Training time for LogisticRegression : 5.179431676864624 secs\n",
      "Test completed successfully\n",
      "Testing time for LogisticRegression : 0.8002333641052246 secs\n",
      "Model name:  LogisticRegression\n",
      "Accuracy:  0.822215805179\n",
      "Precision:  0.845715519846\n",
      "Recall:  0.822215805179\n",
      "F1 Score:  0.818396272119\n",
      "Ngram:  1\n",
      "Total Features:  200\n",
      "Analyzer:  char\n",
      "Use idf:  False\n",
      "Result saved successfully\n",
      "####################################################################################################\n",
      "Training completed\n",
      "Training time for LogisticRegression : 12.294049739837646 secs\n",
      "Test completed successfully\n",
      "Testing time for LogisticRegression : 2.4697158336639404 secs\n",
      "Model name:  LogisticRegression\n",
      "Accuracy:  0.920877851574\n",
      "Precision:  0.927461634643\n",
      "Recall:  0.920877851574\n",
      "F1 Score:  0.920227270324\n",
      "Ngram:  2\n",
      "Total Features:  5605\n",
      "Analyzer:  char\n",
      "Use idf:  False\n",
      "Result saved successfully\n",
      "####################################################################################################\n",
      "Training completed\n",
      "Training time for LogisticRegression : 22.86792302131653 secs\n",
      "Test completed successfully\n",
      "Testing time for LogisticRegression : 3.7566275596618652 secs\n",
      "Model name:  LogisticRegression\n",
      "Accuracy:  0.944316103571\n",
      "Precision:  0.947977340641\n",
      "Recall:  0.944316103571\n",
      "F1 Score:  0.94408097668\n",
      "Ngram:  3\n",
      "Total Features:  59495\n",
      "Analyzer:  char\n",
      "Use idf:  False\n",
      "Result saved successfully\n",
      "####################################################################################################\n",
      "Training completed\n",
      "Training time for LogisticRegression : 35.885183811187744 secs\n",
      "Test completed successfully\n",
      "Testing time for LogisticRegression : 5.838928699493408 secs\n",
      "Model name:  LogisticRegression\n",
      "Accuracy:  0.952016555973\n",
      "Precision:  0.954988519136\n",
      "Recall:  0.952016555973\n",
      "F1 Score:  0.951896782156\n",
      "Ngram:  4\n",
      "Total Features:  337357\n",
      "Analyzer:  char\n",
      "Use idf:  False\n",
      "Result saved successfully\n",
      "####################################################################################################\n",
      "Training completed\n",
      "Training time for LogisticRegression : 62.38970875740051 secs\n",
      "Test completed successfully\n",
      "Testing time for LogisticRegression : 8.849026679992676 secs\n",
      "Model name:  LogisticRegression\n",
      "Accuracy:  0.954904225623\n",
      "Precision:  0.957749776444\n",
      "Recall:  0.954904225623\n",
      "F1 Score:  0.954830558601\n",
      "Ngram:  5\n",
      "Total Features:  1283035\n",
      "Analyzer:  char\n",
      "Use idf:  False\n",
      "Result saved successfully\n",
      "####################################################################################################\n"
     ]
    }
   ],
   "source": [
    "# Train character based classifier without using idf\n",
    "# Save the results for further analysis\n",
    "analyzer='char'\n",
    "use_idf = False\n",
    "\n",
    "for n in ngram:\n",
    "    language_classifier.train_model(n,use_idf=use_idf, analyzer=analyzer)\n",
    "    language_classifier.test_model()\n",
    "    language_classifier.print_results(DETAIL=False)\n",
    "    language_classifier.save_results()\n",
    "    print('#'*100)"
   ]
  },
  {
   "cell_type": "markdown",
   "metadata": {},
   "source": [
    "We can observe that character based classifier improves significantly by increasing ngram. We can also observe that after certain ngram, the performance didnot improve significantly"
   ]
  },
  {
   "cell_type": "code",
   "execution_count": 38,
   "metadata": {},
   "outputs": [
    {
     "name": "stdout",
     "output_type": "stream",
     "text": [
      "Training completed\n",
      "Training time for LogisticRegression : 4.167065143585205 secs\n",
      "Test completed successfully\n",
      "Testing time for LogisticRegression : 0.6603050231933594 secs\n",
      "Model name:  LogisticRegression\n",
      "Accuracy:  0.862883819424\n",
      "Precision:  0.876355375028\n",
      "Recall:  0.862883819424\n",
      "F1 Score:  0.860959909823\n",
      "Ngram:  1\n",
      "Total Features:  200\n",
      "Analyzer:  char\n",
      "Use idf:  True\n",
      "Result saved successfully\n",
      "####################################################################################################\n",
      "Training completed\n",
      "Training time for LogisticRegression : 12.979086637496948 secs\n",
      "Test completed successfully\n",
      "Testing time for LogisticRegression : 2.5272393226623535 secs\n",
      "Model name:  LogisticRegression\n",
      "Accuracy:  0.94936952546\n",
      "Precision:  0.952029763204\n",
      "Recall:  0.94936952546\n",
      "F1 Score:  0.94922828513\n",
      "Ngram:  2\n",
      "Total Features:  5605\n",
      "Analyzer:  char\n",
      "Use idf:  True\n",
      "Result saved successfully\n",
      "####################################################################################################\n",
      "Training completed\n",
      "Training time for LogisticRegression : 24.798892974853516 secs\n",
      "Test completed successfully\n",
      "Testing time for LogisticRegression : 4.160893440246582 secs\n",
      "Model name:  LogisticRegression\n",
      "Accuracy:  0.969005679084\n",
      "Precision:  0.970203016901\n",
      "Recall:  0.969005679084\n",
      "F1 Score:  0.968997949689\n",
      "Ngram:  3\n",
      "Total Features:  59495\n",
      "Analyzer:  char\n",
      "Use idf:  True\n",
      "Result saved successfully\n",
      "####################################################################################################\n",
      "Training completed\n",
      "Training time for LogisticRegression : 37.98046326637268 secs\n",
      "Test completed successfully\n",
      "Testing time for LogisticRegression : 6.349816799163818 secs\n",
      "Model name:  LogisticRegression\n",
      "Accuracy:  0.976369236693\n",
      "Precision:  0.977179094288\n",
      "Recall:  0.976369236693\n",
      "F1 Score:  0.976372670414\n",
      "Ngram:  4\n",
      "Total Features:  337357\n",
      "Analyzer:  char\n",
      "Use idf:  True\n",
      "Result saved successfully\n",
      "####################################################################################################\n",
      "Training completed\n",
      "Training time for LogisticRegression : 65.03617882728577 secs\n",
      "Test completed successfully\n",
      "Testing time for LogisticRegression : 9.581079006195068 secs\n",
      "Model name:  LogisticRegression\n",
      "Accuracy:  0.97487727404\n",
      "Precision:  0.976841634223\n",
      "Recall:  0.97487727404\n",
      "F1 Score:  0.975182286868\n",
      "Ngram:  5\n",
      "Total Features:  1283035\n",
      "Analyzer:  char\n",
      "Use idf:  True\n",
      "Result saved successfully\n",
      "####################################################################################################\n"
     ]
    }
   ],
   "source": [
    "# Train character based classifier without idf\n",
    "# Save the results for further analysis\n",
    "analyzer='char'\n",
    "use_idf = True\n",
    "\n",
    "for n in ngram:\n",
    "    language_classifier.train_model(n,use_idf=use_idf, analyzer=analyzer)\n",
    "    language_classifier.test_model()\n",
    "    language_classifier.print_results(DETAIL=False)\n",
    "    language_classifier.save_results()\n",
    "    print('#'*100)"
   ]
  },
  {
   "cell_type": "markdown",
   "metadata": {},
   "source": [
    "We can observe that performance of character based classifer improved by the use of idf. We can also observe that it improves as ngramincreases but after certain ngram, the performance didnot improve significantly.\n"
   ]
  },
  {
   "cell_type": "markdown",
   "metadata": {},
   "source": [
    "### SVM"
   ]
  },
  {
   "cell_type": "markdown",
   "metadata": {},
   "source": [
    "We will perform similar analysis as above for SVM. As we have observed from the results of Logistic regression, that using idf improves performance, we will be using idf for all SVM models"
   ]
  },
  {
   "cell_type": "code",
   "execution_count": 44,
   "metadata": {
    "collapsed": true
   },
   "outputs": [],
   "source": [
    "from sklearn import svm\n",
    "model = svm.SVC()\n",
    "\n",
    "# Instantiate BagOfWords object for SVM classifier\n",
    "language_classifier = BagsOfWords(model=model,train_df=training_data,test_df=testData,labels=labels)"
   ]
  },
  {
   "cell_type": "code",
   "execution_count": 45,
   "metadata": {},
   "outputs": [
    {
     "name": "stdout",
     "output_type": "stream",
     "text": [
      "Training completed\n",
      "Training time for SVC : 3.7238595485687256 secs\n",
      "Test completed successfully\n",
      "Testing time for SVC : 9.826819658279419 secs\n",
      "Model name:  SVC\n",
      "Accuracy:  0.974973529695\n",
      "Precision:  0.975639073967\n",
      "Recall:  0.974973529695\n",
      "F1 Score:  0.975060931682\n",
      "Ngram:  1\n",
      "Total Features:  313473\n",
      "Analyzer:  word\n",
      "Use idf:  True\n",
      "Result saved successfully\n",
      "####################################################################################################\n",
      "Training completed\n",
      "Training time for SVC : 14.1800217628479 secs\n",
      "Test completed successfully\n",
      "Testing time for SVC : 64.67350268363953 secs\n",
      "Model name:  SVC\n",
      "Accuracy:  0.977524304553\n",
      "Precision:  0.977973896784\n",
      "Recall:  0.977524304553\n",
      "F1 Score:  0.977583752074\n",
      "Ngram:  2\n",
      "Total Features:  2294420\n",
      "Analyzer:  word\n",
      "Use idf:  True\n",
      "Result saved successfully\n",
      "####################################################################################################\n",
      "Training completed\n",
      "Training time for SVC : 32.35542440414429 secs\n",
      "Test completed successfully\n",
      "Testing time for SVC : 153.54453992843628 secs\n",
      "Model name:  SVC\n",
      "Accuracy:  0.977716815863\n",
      "Precision:  0.978162652824\n",
      "Recall:  0.977716815863\n",
      "F1 Score:  0.977775684478\n",
      "Ngram:  3\n",
      "Total Features:  5586569\n",
      "Analyzer:  word\n",
      "Use idf:  True\n",
      "Result saved successfully\n",
      "####################################################################################################\n",
      "Training completed\n",
      "Training time for SVC : 54.81124782562256 secs\n",
      "Test completed successfully\n",
      "Testing time for SVC : 253.41055154800415 secs\n",
      "Model name:  SVC\n",
      "Accuracy:  0.977813071518\n",
      "Precision:  0.978251508739\n",
      "Recall:  0.977813071518\n",
      "F1 Score:  0.977870885441\n",
      "Ngram:  4\n",
      "Total Features:  9384309\n",
      "Analyzer:  word\n",
      "Use idf:  True\n",
      "Result saved successfully\n",
      "####################################################################################################\n",
      "Training completed\n",
      "Training time for SVC : 78.28512620925903 secs\n",
      "Test completed successfully\n",
      "Testing time for SVC : 360.4115483760834 secs\n",
      "Model name:  SVC\n",
      "Accuracy:  0.977716815863\n",
      "Precision:  0.978168348429\n",
      "Recall:  0.977716815863\n",
      "F1 Score:  0.977774977171\n",
      "Ngram:  5\n",
      "Total Features:  13343183\n",
      "Analyzer:  word\n",
      "Use idf:  True\n",
      "Result saved successfully\n",
      "####################################################################################################\n"
     ]
    }
   ],
   "source": [
    "# Train word based ngram model using idf\n",
    "# Save results\n",
    "analyzer='word'\n",
    "use_idf = True\n",
    "\n",
    "for n in ngram:\n",
    "    language_classifier.train_model(n,use_idf=use_idf, analyzer=analyzer)\n",
    "    language_classifier.test_model()\n",
    "    language_classifier.print_results(DETAIL=False)\n",
    "    language_classifier.save_results()\n",
    "    print('#'*100)"
   ]
  },
  {
   "cell_type": "code",
   "execution_count": 46,
   "metadata": {},
   "outputs": [
    {
     "name": "stdout",
     "output_type": "stream",
     "text": [
      "Training completed\n",
      "Training time for SVC : 4.972912073135376 secs\n",
      "Test completed successfully\n",
      "Testing time for SVC : 0.7701373100280762 secs\n",
      "Model name:  SVC\n",
      "Accuracy:  0.891471748965\n",
      "Precision:  0.895250131597\n",
      "Recall:  0.891471748965\n",
      "F1 Score:  0.892364997711\n",
      "Ngram:  1\n",
      "Total Features:  200\n",
      "Analyzer:  char\n",
      "Use idf:  True\n",
      "Result saved successfully\n",
      "####################################################################################################\n",
      "Training completed\n",
      "Training time for SVC : 12.525273323059082 secs\n",
      "Test completed successfully\n",
      "Testing time for SVC : 3.4421472549438477 secs\n",
      "Model name:  SVC\n",
      "Accuracy:  0.956829338724\n",
      "Precision:  0.957574890135\n",
      "Recall:  0.956829338724\n",
      "F1 Score:  0.956973401841\n",
      "Ngram:  2\n",
      "Total Features:  5605\n",
      "Analyzer:  char\n",
      "Use idf:  True\n",
      "Result saved successfully\n",
      "####################################################################################################\n",
      "Training completed\n",
      "Training time for SVC : 23.587806463241577 secs\n",
      "Test completed successfully\n",
      "Testing time for SVC : 9.133889436721802 secs\n",
      "Model name:  SVC\n",
      "Accuracy:  0.972470882664\n",
      "Precision:  0.972818021814\n",
      "Recall:  0.972470882664\n",
      "F1 Score:  0.972536311055\n",
      "Ngram:  3\n",
      "Total Features:  59495\n",
      "Analyzer:  char\n",
      "Use idf:  True\n",
      "Result saved successfully\n",
      "####################################################################################################\n",
      "Training completed\n",
      "Training time for SVC : 35.394986629486084 secs\n",
      "Test completed successfully\n",
      "Testing time for SVC : 29.600031852722168 secs\n",
      "Model name:  SVC\n",
      "Accuracy:  0.981615169891\n",
      "Precision:  0.981810341309\n",
      "Recall:  0.981615169891\n",
      "F1 Score:  0.981639959452\n",
      "Ngram:  4\n",
      "Total Features:  337357\n",
      "Analyzer:  char\n",
      "Use idf:  True\n",
      "Result saved successfully\n",
      "####################################################################################################\n",
      "Training completed\n",
      "Training time for SVC : 54.73441505432129 secs\n",
      "Test completed successfully\n",
      "Testing time for SVC : 76.82034540176392 secs\n",
      "Model name:  SVC\n",
      "Accuracy:  0.985657907402\n",
      "Precision:  0.985774213838\n",
      "Recall:  0.985657907402\n",
      "F1 Score:  0.985670913493\n",
      "Ngram:  5\n",
      "Total Features:  1283035\n",
      "Analyzer:  char\n",
      "Use idf:  True\n",
      "Result saved successfully\n",
      "####################################################################################################\n"
     ]
    }
   ],
   "source": [
    "# Train character based ngram model using idf\n",
    "# Save results\n",
    "analyzer='char'\n",
    "use_idf = True\n",
    "\n",
    "for n in ngram:\n",
    "    language_classifier.train_model(n,use_idf=use_idf, analyzer=analyzer)\n",
    "    language_classifier.test_model()\n",
    "    language_classifier.print_results(DETAIL=False)\n",
    "    language_classifier.save_results()\n",
    "    print('#'*100)"
   ]
  },
  {
   "cell_type": "markdown",
   "metadata": {},
   "source": [
    "From the above results we found that 5 gram character SVM model has highest accuracy. Details result analysis can be found in **result_analysis.ipynb**"
   ]
  },
  {
   "cell_type": "code",
   "execution_count": null,
   "metadata": {
    "collapsed": true
   },
   "outputs": [],
   "source": []
  }
 ],
 "metadata": {
  "kernelspec": {
   "display_name": "Python 3",
   "language": "python",
   "name": "python3"
  },
  "language_info": {
   "codemirror_mode": {
    "name": "ipython",
    "version": 3
   },
   "file_extension": ".py",
   "mimetype": "text/x-python",
   "name": "python",
   "nbconvert_exporter": "python",
   "pygments_lexer": "ipython3",
   "version": "3.6.3"
  }
 },
 "nbformat": 4,
 "nbformat_minor": 2
}
